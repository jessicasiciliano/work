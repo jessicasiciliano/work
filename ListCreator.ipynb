{
  "nbformat": 4,
  "nbformat_minor": 0,
  "metadata": {
    "colab": {
      "provenance": []
    },
    "kernelspec": {
      "name": "python3",
      "display_name": "Python 3"
    },
    "language_info": {
      "name": "python"
    }
  },
  "cells": [
    {
      "cell_type": "code",
      "execution_count": 1,
      "metadata": {
        "colab": {
          "base_uri": "https://localhost:8080/"
        },
        "id": "Chtna2RAbf2V",
        "outputId": "e88e809b-60de-4d44-bd81-f3c95ae7a313"
      },
      "outputs": [
        {
          "output_type": "stream",
          "name": "stdout",
          "text": [
            "Enter Value for List: 3\n",
            "Enter Value for List: 2\n",
            "Enter Value for List: 1\n",
            "Enter Value for List: 0\n",
            "Final List:  [3, 2, 1]\n"
          ]
        }
      ],
      "source": [
        "L = []\n",
        "userinput = int(input('Enter Value for List: '))\n",
        "\n",
        "while userinput != 0:\n",
        "  L.append(userinput)\n",
        "  userinput = int(input('Enter Value for List: '))\n",
        "\n",
        "print('Final List: ', L)"
      ]
    }
  ]
}