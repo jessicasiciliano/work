{
  "nbformat": 4,
  "nbformat_minor": 0,
  "metadata": {
    "colab": {
      "provenance": []
    },
    "kernelspec": {
      "name": "python3",
      "display_name": "Python 3"
    },
    "language_info": {
      "name": "python"
    }
  },
  "cells": [
    {
      "cell_type": "code",
      "execution_count": 1,
      "metadata": {
        "colab": {
          "base_uri": "https://localhost:8080/"
        },
        "id": "tnnAV98-bA_M",
        "outputId": "fd36a21d-2c06-48e4-a44a-26ee806a5136"
      },
      "outputs": [
        {
          "output_type": "stream",
          "name": "stdout",
          "text": [
            "Enter date: (MM / DD / YYYY)10/08/2003\n",
            "Month: 10\n",
            "Day: 08\n",
            "Year: 2003\n"
          ]
        }
      ],
      "source": [
        "date = input('Enter date: (MM / DD / YYYY)')\n",
        "\n",
        "month = date[0:2]\n",
        "day = date[3:5]\n",
        "year = date[6:]\n",
        "\n",
        "print('Month:', month)\n",
        "print('Day:', day)\n",
        "print('Year:', year)"
      ]
    }
  ]
}