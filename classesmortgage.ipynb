{
  "nbformat": 4,
  "nbformat_minor": 0,
  "metadata": {
    "colab": {
      "provenance": []
    },
    "kernelspec": {
      "name": "python3",
      "display_name": "Python 3"
    },
    "language_info": {
      "name": "python"
    }
  },
  "cells": [
    {
      "cell_type": "code",
      "execution_count": 1,
      "metadata": {
        "colab": {
          "base_uri": "https://localhost:8080/"
        },
        "id": "YxWSACmZv5ft",
        "outputId": "75570f10-d6fe-40ba-a89b-4e8f47d12072"
      },
      "outputs": [
        {
          "output_type": "stream",
          "name": "stdout",
          "text": [
            "Payment is: $ 6000.000004656286\n",
            "Mortgage info: \n",
            "Principle value: 100000 \n",
            "Interest rate: 6% \n",
            "Term: 30 years\n"
          ]
        }
      ],
      "source": [
        "class Mortgage:\n",
        "  def __init__(self, amount, maturity, interest):\n",
        "    self.amount = amount\n",
        "    self.maturity = maturity\n",
        "    self.__interest = interest\n",
        "\n",
        "\n",
        "  def get_interest(self):\n",
        "    return self.interest\n",
        "\n",
        "\n",
        "  def set_interest(self, newInterest):\n",
        "    if newInterest >= 0:\n",
        "      self.interest = newInterest\n",
        "    else:\n",
        "      print('Interest must be non-negative')\n",
        "\n",
        "\n",
        "  def payment(self):\n",
        "    B = self.amount\n",
        "    r = self.__interest / 100\n",
        "    n = self.maturity * 12\n",
        "    payment = B * (r * (1 + r) ** n) / ((1 + r) ** n - 1)\n",
        "    print(f'Payment is: $ {payment}')\n",
        "\n",
        "\n",
        "  def __str__(self):\n",
        "    return f\"Mortgage info: \\nPrinciple value: {self.amount} \\nInterest rate: {self.__interest}% \\nTerm: {self.maturity} years\"\n",
        "\n",
        "\n",
        "\n",
        "m = Mortgage(100000, 30, 6)\n",
        "\n",
        "\n",
        "m.payment()\n",
        "\n",
        "print(m)"
      ]
    }
  ]
}