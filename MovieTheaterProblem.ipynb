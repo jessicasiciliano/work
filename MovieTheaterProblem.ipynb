{
  "nbformat": 4,
  "nbformat_minor": 0,
  "metadata": {
    "colab": {
      "provenance": []
    },
    "kernelspec": {
      "name": "python3",
      "display_name": "Python 3"
    },
    "language_info": {
      "name": "python"
    }
  },
  "cells": [
    {
      "cell_type": "code",
      "execution_count": 2,
      "metadata": {
        "colab": {
          "base_uri": "https://localhost:8080/"
        },
        "id": "oStsMs_bPZhg",
        "outputId": "47a04e37-2034-49bb-e534-fb25dc29b870"
      },
      "outputs": [
        {
          "output_type": "stream",
          "name": "stdout",
          "text": [
            "0 $0.0\n",
            "25 $75.0\n",
            "50 $90.0\n",
            "75 $105.0\n",
            "100 $100.0\n",
            "125 $95.0\n",
            "150 $90.0\n",
            "175 $85.0\n",
            "200 $80.0\n"
          ]
        }
      ],
      "source": [
        "init_attendees = 20\n",
        "fixed_cost = 200\n",
        "\n",
        "for advertising in range(0, 201, 25):\n",
        "  attendees = float(2*round(advertising**0.5) + init_attendees)\n",
        "  profit = float((attendees * 10) - advertising - fixed_cost)\n",
        "  print(f'{advertising} ${profit}')"
      ]
    }
  ]
}