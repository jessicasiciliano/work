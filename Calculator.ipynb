{
  "nbformat": 4,
  "nbformat_minor": 0,
  "metadata": {
    "colab": {
      "provenance": []
    },
    "kernelspec": {
      "name": "python3",
      "display_name": "Python 3"
    },
    "language_info": {
      "name": "python"
    }
  },
  "cells": [
    {
      "cell_type": "code",
      "execution_count": null,
      "metadata": {
        "id": "Fp32HyVmBRhj"
      },
      "outputs": [],
      "source": [
        "while True:\n",
        "  a = float(input('Enter first number: '))\n",
        "  function = input('Function: ')\n",
        "  if function == 'break':\n",
        "    break\n",
        "  b = float(input('Enter second number: '))\n",
        "  if function == '/':\n",
        "    answer = a / b\n",
        "  elif function == '*':\n",
        "    answer = a * b\n",
        "  elif function == '+':\n",
        "    answer = a + b\n",
        "  elif function == '-':\n",
        "    answer = a - b\n",
        "  elif function == '**':\n",
        "    answer = a ** b\n",
        "  elif function == '%':\n",
        "    answer = a % b\n",
        "  elif function == '//':\n",
        "    answer = a // b\n",
        "  else:\n",
        "    print('Invalid operator:', operator)\n",
        "    continue\n",
        "  print('Result:', answer)"
      ]
    }
  ]
}