{
  "nbformat": 4,
  "nbformat_minor": 0,
  "metadata": {
    "colab": {
      "provenance": []
    },
    "kernelspec": {
      "name": "python3",
      "display_name": "Python 3"
    },
    "language_info": {
      "name": "python"
    }
  },
  "cells": [
    {
      "cell_type": "code",
      "execution_count": 1,
      "metadata": {
        "colab": {
          "base_uri": "https://localhost:8080/"
        },
        "id": "QkOL53k4cXvQ",
        "outputId": "361a784a-92f7-4523-b658-28dc9664a1f6"
      },
      "outputs": [
        {
          "output_type": "stream",
          "name": "stdout",
          "text": [
            "Enter Deposit Amount: 300\n",
            "Deposit at the end of year: 309.0\n"
          ]
        }
      ],
      "source": [
        "deposit = float(input('Enter Deposit Amount: '))\n",
        "\n",
        "if deposit > 10000:\n",
        "  IR = 3.5\n",
        "elif deposit < 1000:\n",
        "  IR = 3\n",
        "else:\n",
        "  IR = 3.25\n",
        "\n",
        "deposit_EOY = (1 + IR/100) * deposit\n",
        "print(f'Deposit at the end of year: {round(deposit_EOY,2)}')"
      ]
    }
  ]
}